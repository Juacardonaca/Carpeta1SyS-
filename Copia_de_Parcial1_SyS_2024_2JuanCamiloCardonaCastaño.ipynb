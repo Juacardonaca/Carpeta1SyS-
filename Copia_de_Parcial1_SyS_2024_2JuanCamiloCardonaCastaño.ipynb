{
  "nbformat": 4,
  "nbformat_minor": 0,
  "metadata": {
    "colab": {
      "private_outputs": true,
      "provenance": [],
      "include_colab_link": true
    },
    "kernelspec": {
      "name": "python3",
      "display_name": "Python 3"
    },
    "language_info": {
      "name": "python"
    }
  },
  "cells": [
    {
      "cell_type": "markdown",
      "metadata": {
        "id": "view-in-github",
        "colab_type": "text"
      },
      "source": [
        "<a href=\"https://colab.research.google.com/github/Juacardonaca/Carpeta1SyS-/blob/main/Copia_de_Parcial1_SyS_2024_2JuanCamiloCardonaCasta%C3%B1o.ipynb\" target=\"_parent\"><img src=\"https://colab.research.google.com/assets/colab-badge.svg\" alt=\"Open In Colab\"/></a>"
      ]
    },
    {
      "cell_type": "markdown",
      "source": [
        "# Parcial 1: Señales y Sistemas 2024-II\n",
        "\n",
        " ## Profesor: Andrés Marino Álvarez Meza, Ph.D.\n",
        "\n",
        "\n",
        "## Departamento de Ingeniería Eléctrica, Electrónica, y Computación\n",
        "## Universidad Nacional de Colombia - sede Manizales"
      ],
      "metadata": {
        "id": "1fWMHXCqNtQw"
      }
    },
    {
      "cell_type": "markdown",
      "source": [
        "# Instrucciones\n",
        "\n",
        "-- Para recibir el crédito total, sus respuestas deben estar justificadas de manera clara, detallada y concreta, mostrando los procedimientos y razonamientos paso a paso.\n",
        "\n",
        "-- Está permitido el uso de herramientas de inteligencia artificial (IA). Si las utiliza, por favor declare explícitamente cómo fueron empleadas en la resolución de cada pregunta. Incluya los prompts (consultas) y las iteraciones realizadas con las IA durante el desarrollo del parcial.\n",
        "\n",
        "-- La entrega del parcial debe realizarse antes de las 23:59 del 5 de diciembre de 2024 al correo electrónico amalvarezme@unal.edu.co mediante un enlace de GitHub.\n",
        "\n",
        "-- Los códigos deben estar debidamente comentados en las celdas correspondientes y explicados en celdas de texto (markdown). Los códigos que no incluyan comentarios ni discusiones no serán considerados en la evaluación final."
      ],
      "metadata": {
        "id": "15xl7tLEP6YA"
      }
    },
    {
      "cell_type": "markdown",
      "source": [
        "# Pregunta 1 (valor 2.5 puntos)\n",
        "\n",
        "Cuál es la señal obtenida en tiempo discreto al utilizar un conversor análogo digital de 5 bits con frecuencia de muestreo de $5kHz$, aplicado a la señal continua $x(t) = 0.3 \\cos(1000\\pi t-\\pi/4) +\n",
        "0.6 \\sin(2000\\pi t) + 0.1 \\cos(11000\\pi t-\\pi)$?. Realizar la simulación del proceso de digitalización incluyendo al menos 3 ciclos de la señal $x(t)$.\n",
        "\n",
        "En caso de que la digitalización no sea apropiada, diseñe e implemente un conversor adecuado para la señal estudiada. El convesor debe permitir configurar la cantidad de bits y la frecuencia de muestreo, indicándole al usuario si dicha frecuencia es apropiada o no, y graficar la señal continua, discreta y digital."
      ],
      "metadata": {
        "id": "jmI0zzVMRLNx"
      }
    },
    {
      "cell_type": "code",
      "source": [
        "import numpy as np  #importar librería numpy\n",
        "import matplotlib.pyplot as plt #librería para gráficas simples en python\n",
        "from scipy.spatial.distance import cdist #librería para calcular distancias entre puntos\n",
        "\n",
        "A1 = 0.3\n",
        "A2 = 0.6\n",
        "A3 = 0.1 #Estas amplitudes se definen de acuerdo a la ecuación x(t)=A cos(wt+<)\n",
        "w1 = 1000*np.pi\n",
        "w2 = 2000*np.pi\n",
        "w3 = 11000*np.pi #frecuencias de las señales\n",
        "T1 = 2*np.pi/w1\n",
        "T2 = 2*np.pi/w2\n",
        "T3 = 2*np.pi/w3 #Periodo de las señales definido por T=(2*PI/w)\n",
        "F1 = w1/2*np.pi\n",
        "F2 = w2/2*np.pi\n",
        "F3 = w3/2*np.pi #Frecuencia de las señales definida por F=w/2*pi\n",
        "Fs = 5000 #Frecuencia de muestreo del ejercicio\n",
        "Ts = 1/Fs #Periodo de muestreo\n",
        "phi1 = -np.pi/4 #fase\n",
        "phi2 = 0\n",
        "phi3 = -np.pi #fase de señal 3\n",
        "ti = -20*Ts #tiempo inicial de muestreo\n",
        "tf = 10*Ts #tiempo final de muestreo\n",
        "tv = np.arange(ti,tf,Ts) #vector de tiempo\n",
        "x = A1*np.cos(w1*tv+phi1) + A2*np.sin(w2*tv) + A3*np.cos(w3*tv+phi3) #señal continua\n",
        "plt.plot(tv,x) #grafica de la señal continua\n",
        "plt.xlabel('Tiempo (s)')\n",
        "plt.ylabel('Amplitud')\n",
        "plt.title('Señal continua')\n",
        "plt.grid()\n",
        "plt.show()"
      ],
      "metadata": {
        "id": "1O3h1A6dIpda"
      },
      "execution_count": null,
      "outputs": []
    },
    {
      "cell_type": "code",
      "source": [
        "def my_ceropen(x,ymin = -5, ymax = 5): #funcion se saca de los cuadernos github\n",
        "\n",
        "\n",
        "  xmax = max(x) # x.max()\n",
        "  xmin = min(x) # x.min()\n",
        "  m = (ymax - ymin)/(xmax - xmin)\n",
        "  c = ymin - m*xmin\n",
        "  yv = m*x + c\n",
        "  return yv\n",
        "xcp = my_ceropen(x,ymin=-3.3,ymax=3.3).reshape(-1,1)\n",
        "plt.plot(tv,xcp, c= 'b', label= 'cero_pendiente')\n",
        "plt.legend()\n",
        "plt.grid()\n",
        "plt.show()\n"
      ],
      "metadata": {
        "id": "M4Q6rurKYUYf"
      },
      "execution_count": null,
      "outputs": []
    },
    {
      "cell_type": "code",
      "source": [
        "nbits = 5\n",
        "num_est = 2**nbits\n",
        "ymin = -3.3\n",
        "ymax = 3.3\n",
        "res = (ymax-ymin)/num_est\n",
        "vq = np.linspace(ymin, ymax, num_est)\n",
        "vq"
      ],
      "metadata": {
        "id": "OgX2D8Y1b6ZN"
      },
      "execution_count": null,
      "outputs": []
    },
    {
      "cell_type": "code",
      "source": [
        "def my_cuantizador(yn, vq) : #yn punto a #cuantizar, vq vector de estados\n",
        "\n",
        "  Ne = vq.shape[0] #tamaño vector de estados\n",
        "  dn = cdist(yn.reshape(-1,1),vq.reshape(-1,1))\n",
        "  ind = np.argmin(dn) #posición distancia min\n",
        "  return vq[ind]"
      ],
      "metadata": {
        "id": "-i9EXGGbU4-P"
      },
      "execution_count": null,
      "outputs": []
    },
    {
      "cell_type": "code",
      "source": [
        "for v in vq:\n",
        "  plt.plot(tv,v*np.ones(len(tv)))\n",
        "\n",
        "\n",
        "\n",
        "for i in range(xcp.shape[0]):\n",
        "   if i==0: #primera muestra\n",
        "     yq = my_cuantizador(xcp[i],vq)\n",
        "   else:\n",
        "     yq = np.append(yq,my_cuantizador(xcp[i],vq))\n",
        "\n",
        "\n",
        "\n",
        "\n",
        "plt.plot(tv, xcp, c='r', label='continua')\n",
        "plt.plot(tv, yq, c='g', marker='o', label='cuantizada', linewidth=2)\n",
        "plt.stem(tv, xcp, label='discreta')\n",
        "plt.legend()\n",
        "plt.grid()\n",
        "plt.xlabel('t')\n",
        "plt.ylabel('Amplitud')\n",
        "plt.show()"
      ],
      "metadata": {
        "id": "FOWYainIhujY"
      },
      "execution_count": null,
      "outputs": []
    },
    {
      "cell_type": "markdown",
      "source": [
        "# Pregunta 2 (valor 2.5 puntos)\n",
        "\n",
        "Se dispone de un sistema modelado como una \"caja negra\" (ver celdas de código). Su tarea es analizar y comprobar mediante simulaciones si el sistema cumple con las propiedades de linealidad e invariancia en el tiempo. En caso de que el sistema sea lineal e invariante con el tiempo, determine su respuesta al impulso y utilice esta respuesta para calcular la salida del sistema ante la siguiente señal:\n",
        "\n",
        "$x[n] = \\sin[100 \\pi n ] + \\sin[600 \\pi n]$"
      ],
      "metadata": {
        "id": "5Za-WbLpSele"
      }
    },
    {
      "cell_type": "code",
      "source": [
        "# cargar sistema\n",
        "FILEID = \"1J9rhh0wWHZSBd8XmWGt1ZpCsMDuoUFmm\"\n",
        "!wget --load-cookies /tmp/cookies.txt \"https://docs.google.com/uc?export=download&confirm=$(wget --quiet --save-cookies /tmp/cookies.txt --keep-session-cookies --no-check-certificate 'https://docs.google.com/uc?export=download&id='$FILEID -O- | sed -rn 's/.*confirm=([0-9A-Za-z_]+).*/\\1\\n/p')&id=\"$FILEID -O P1_model.zip && rm -rf /tmp/cookies.txt\n",
        "!unzip -o P1_model.zip\n",
        "!dir"
      ],
      "metadata": {
        "id": "6yJMMFK6zo5K"
      },
      "execution_count": null,
      "outputs": []
    },
    {
      "cell_type": "code",
      "source": [
        "import numpy as np\n",
        "import matplotlib.pyplot as plt\n",
        "import joblib\n",
        "from P1_model import system_\n",
        "from scipy.signal import firwin, freqz, lfilter, filtfilt\n",
        "\n",
        "#sistema pregunta 2\n",
        "my_system = system_.My_System()\n",
        "my_system.create_()\n",
        "fs = my_system.fs #frecuencia de muestreo\n",
        "t = np.arange(-0.01, 0.02, 1/fs)  # Tiempo\n",
        "signal_u = np.heaviside(t,1) # función heaviside\n",
        "y_u = my_system.predict(signal_u)\n",
        "\n",
        "\n",
        "# Visualización de las señales\n",
        "fig, axs = plt.subplots(2,1)\n",
        "axs[0].stem(t, signal_u, label='Señal de entrada')\n",
        "axs[0].set_xlabel('Tiempo (s)')\n",
        "axs[0].set_ylabel('Amplitud')\n",
        "axs[0].legend()\n",
        "axs[0].grid()\n",
        "axs[1].stem(t,y_u, label='Señal salida')\n",
        "axs[1].set_xlabel('Tiempo (s)')\n",
        "axs[1].set_ylabel('Amplitud')\n",
        "axs[1].legend()\n",
        "axs[1].grid()\n",
        "plt.tight_layout()\n",
        "plt.show()"
      ],
      "metadata": {
        "id": "nUX7Vr1fTUYW"
      },
      "execution_count": null,
      "outputs": []
    },
    {
      "cell_type": "markdown",
      "source": [
        "Comprobar la linealidad\n",
        "\n",
        "---\n",
        "\n"
      ],
      "metadata": {
        "id": "MXmh7CUHeZ0-"
      }
    },
    {
      "cell_type": "code",
      "source": [
        "my_system = system_.My_System()\n",
        "my_system.create_()\n",
        "fs = my_system.fs #frecuencia de muestreo\n",
        "t = np.arange(-0.01, 0.02, 1/fs)  # Tiempo\n",
        "signal_u = np.heaviside(t,1) # función heaviside\n",
        "y_u = my_system.predict(signal_u)\n",
        "x1 = np.sin(2*np.pi*t)  #señal 1\n",
        "x2 = np.heaviside(t,1)  #señal 2\n",
        "y1 = my_system.predict(x1) #salida señal 1\n",
        "y2 = my_system.predict(x2) #salida señal 2\n",
        "xsum = x1 + x2\n",
        "ysum = my_system.predict(xsum) #salida de la suma\n",
        "\n",
        "k = 2 #cualquier escalar\n",
        "x_escalado = my_system.predict(k*x1) #salida escalada\n",
        "y_escalado = k*y1\n",
        "prueba_homogeneidad =np.allclose(y_escalado, k*y1)\n",
        "\n",
        "\n",
        "# Visualización de las señales\n",
        "fig, axs = plt.subplots(2,1)\n",
        "axs[0].stem(t, ysum, label='Señal de entrada')\n",
        "axs[0].set_xlabel('Tiempo (s)')\n",
        "axs[0].set_ylabel('Amplitud')\n",
        "axs[0].legend()\n",
        "axs[0].grid()\n",
        "axs[1].stem(t,y1+y2, label='Señal salida')\n",
        "axs[1].set_xlabel('Tiempo (s)')\n",
        "axs[1].set_ylabel('Amplitud')\n",
        "axs[1].legend()\n",
        "axs[1].grid()\n",
        "plt.tight_layout()\n",
        "plt.show()"
      ],
      "metadata": {
        "id": "TtIiHnhLuSEZ"
      },
      "execution_count": null,
      "outputs": []
    },
    {
      "cell_type": "code",
      "source": [
        "des = 10 #desplazamiento temporal\n",
        "s1 = np.cos(2*np.pi*t)  #señal de entrada para la invarianza en el tiempo\n",
        "h1 = my_system.predict(s1) #salida del sistema para esa entrada\n",
        "s_desplazado = np.roll(s1,des) #desplazar la entrada\n",
        "h_desplazado = my_system.predict(s_desplazado)\n",
        "t_desplazado = np.roll(h1,des) #desplazar el tiempo\n",
        "\n",
        "# Visualización de las señales\n",
        "\n",
        "fig, axs = plt.subplots(2,1)\n",
        "axs[0].stem(t, h1, label='Señal de entrada')\n",
        "axs[0].set_xlabel('Tiempo (s)')\n",
        "axs[0].set_ylabel('Amplitud')\n",
        "axs[0].legend()\n",
        "axs[0].grid()\n",
        "axs[1].stem(t,t_desplazado, label='Señal salida')\n",
        "axs[1].set_xlabel('Tiempo (s)')\n",
        "axs[1].set_ylabel('Amplitud')\n",
        "axs[1].legend()\n",
        "axs[1].grid()"
      ],
      "metadata": {
        "id": "kaKOVNrB1H7p"
      },
      "execution_count": null,
      "outputs": []
    },
    {
      "cell_type": "code",
      "source": [
        "N = 50\n",
        "n = np.arange(0,100)\n",
        "# Crear la señal impulso (delta de Dirac)\n",
        "impulse = np.zeros(N)\n",
        "impulse[0] = 1  # Asumimos el impulso en el centro de t\n",
        "\n",
        "# Aplicar la señal impulso al sistema para obtener la respuesta al impulso\n",
        "h = my_system.predict(impulse)\n",
        "sig = np.sin(100*np.pi*n/fs) + np.sin(600*np.pi*n/fs)\n",
        "\n",
        "jc = np.convolve(sig,h, mode='same')\n",
        "\n",
        "# Graficar la respuesta al impulso\n",
        "fig, axs = plt.subplots(2,1)\n",
        "axs[0].stem(n, sig, label='respuesta al impulso')\n",
        "axs[0].set_xlabel('Tiempo (s)')\n",
        "axs[0].set_ylabel('Amplitud')\n",
        "axs[0].legend()\n",
        "axs[0].grid()\n",
        "axs[1].stem(n, jc, label='señal impulso')\n",
        "axs[1].set_xlabel('Tiempo (s)')\n",
        "axs[1].set_ylabel('Amplitud')\n",
        "axs[1].legend()\n",
        "axs[1].grid()"
      ],
      "metadata": {
        "id": "Osj-NX4jDSqm"
      },
      "execution_count": null,
      "outputs": []
    }
  ]
}